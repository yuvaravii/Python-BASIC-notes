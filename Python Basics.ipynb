{
 "cells": [
  {
   "cell_type": "code",
   "execution_count": 1,
   "id": "41786102",
   "metadata": {},
   "outputs": [],
   "source": [
    "import pandas as pd\n",
    "import numpy as np"
   ]
  },
  {
   "cell_type": "code",
   "execution_count": 2,
   "id": "59f3c4c8",
   "metadata": {},
   "outputs": [
    {
     "name": "stdout",
     "output_type": "stream",
     "text": [
      "['False', 'None', 'True', '__peg_parser__', 'and', 'as', 'assert', 'async', 'await', 'break', 'class', 'continue', 'def', 'del', 'elif', 'else', 'except', 'finally', 'for', 'from', 'global', 'if', 'import', 'in', 'is', 'lambda', 'nonlocal', 'not', 'or', 'pass', 'raise', 'return', 'try', 'while', 'with', 'yield']\n"
     ]
    }
   ],
   "source": [
    "# printing necessary keywords\n",
    "import keyword\n",
    "print(keyword.kwlist)\n",
    "\n",
    "# Cannot be used as variables or identifiers etc."
   ]
  },
  {
   "cell_type": "code",
   "execution_count": 4,
   "id": "9a8d5692",
   "metadata": {},
   "outputs": [
    {
     "name": "stdout",
     "output_type": "stream",
     "text": [
      "Enter anything and check data Type: 56\n",
      "Type of data entered is : <class 'int'>\n"
     ]
    }
   ],
   "source": [
    "# Getting inputs in python\n",
    "# The input always store the information in form of string\n",
    "name = input(\"Enter anything and check data Type: \")\n",
    "print(f'Type of data entered is : {type(eval(name))}')"
   ]
  },
  {
   "cell_type": "code",
   "execution_count": 5,
   "id": "1e325171",
   "metadata": {},
   "outputs": [
    {
     "name": "stdout",
     "output_type": "stream",
     "text": [
      "Enter 3 names (Use comma between names): jj,ts,rj\n"
     ]
    }
   ],
   "source": [
    "# taking new name and splitting to form 3 new inputs\n",
    "\n",
    "name1 , name2 , name3 = input(\"Enter 3 names (Use comma between names): \").split(',')"
   ]
  },
  {
   "cell_type": "code",
   "execution_count": 6,
   "id": "b0e1b387",
   "metadata": {},
   "outputs": [
    {
     "data": {
      "text/plain": [
       "'jj'"
      ]
     },
     "execution_count": 6,
     "metadata": {},
     "output_type": "execute_result"
    }
   ],
   "source": [
    "name1"
   ]
  },
  {
   "cell_type": "markdown",
   "id": "40edd4d0",
   "metadata": {},
   "source": [
    "## Type of Constructors \n",
    "\n",
    "- Int()\n",
    "- float()\n",
    "- str()"
   ]
  },
  {
   "cell_type": "code",
   "execution_count": 10,
   "id": "50609908",
   "metadata": {},
   "outputs": [
    {
     "name": "stdout",
     "output_type": "stream",
     "text": [
      "Enter 3 numbers with comma separation : 21,12,12\n"
     ]
    }
   ],
   "source": [
    "# convert every Number input into float\n",
    "\n",
    "num1,num2,num3 = input(\"Enter 3 numbers with comma separation : \").split(',')"
   ]
  },
  {
   "cell_type": "code",
   "execution_count": 13,
   "id": "4224bdc0",
   "metadata": {},
   "outputs": [
    {
     "name": "stdout",
     "output_type": "stream",
     "text": [
      "Enter values in numbers: 15\n",
      "Enter values in numbers: 20\n",
      "Sum of 2 numbers are : 35.0\n"
     ]
    }
   ],
   "source": [
    "num1 = float(input('Enter values in numbers: '))\n",
    "num2 = float(input('Enter values in numbers: '))\n",
    "total = num1+num2\n",
    "print(f'Sum of 2 numbers are : {total}')"
   ]
  },
  {
   "cell_type": "markdown",
   "id": "f6fba417",
   "metadata": {},
   "source": [
    "## String functions\n",
    "- string.upper()\n",
    "- string.lower()\n",
    "- string.capitalize()\n",
    "- string.title()\n",
    "- string.count() - to know the repetition of letter"
   ]
  },
  {
   "cell_type": "code",
   "execution_count": 20,
   "id": "05548263",
   "metadata": {},
   "outputs": [
    {
     "name": "stdout",
     "output_type": "stream",
     "text": [
      "string.upper() gives : DEEP NEURAL NETWORK\n",
      "string.lower() gives : deep neural network\n",
      "string.capitalize() gives : Deep neural network\n",
      "string.title() gives : Deep Neural Network\n",
      "string.count(\"N\") gives : 2\n"
     ]
    }
   ],
   "source": [
    "string = 'deep neural network'\n",
    "print(f'string.upper() gives : {string.upper()}')\n",
    "print(f'string.lower() gives : {string.lower()}')\n",
    "print(f'string.capitalize() gives : {string.capitalize()}')\n",
    "print(f'string.title() gives : {string.title()}')\n",
    "print(f'string.count(\"N\") gives : {string.count(\"n\")}')"
   ]
  },
  {
   "cell_type": "markdown",
   "id": "a0c76cc6",
   "metadata": {},
   "source": [
    "## Binary Operator"
   ]
  },
  {
   "cell_type": "code",
   "execution_count": 4,
   "id": "44d22e91",
   "metadata": {},
   "outputs": [
    {
     "name": "stdout",
     "output_type": "stream",
     "text": [
      "61\n",
      "9\n"
     ]
    }
   ],
   "source": [
    "a = 25\n",
    "b = 45\n",
    "# bitwise operator &(and),|(or),^(XOR), ~ (NOT), \n",
    "print(a|b)\n",
    "print(b&a)"
   ]
  },
  {
   "cell_type": "code",
   "execution_count": null,
   "id": "df6941b2",
   "metadata": {},
   "outputs": [],
   "source": []
  }
 ],
 "metadata": {
  "kernelspec": {
   "display_name": "Python 3 (ipykernel)",
   "language": "python",
   "name": "python3"
  },
  "language_info": {
   "codemirror_mode": {
    "name": "ipython",
    "version": 3
   },
   "file_extension": ".py",
   "mimetype": "text/x-python",
   "name": "python",
   "nbconvert_exporter": "python",
   "pygments_lexer": "ipython3",
   "version": "3.9.13"
  }
 },
 "nbformat": 4,
 "nbformat_minor": 5
}
