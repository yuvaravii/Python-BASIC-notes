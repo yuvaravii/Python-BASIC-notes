{
 "cells": [
  {
   "cell_type": "code",
   "execution_count": 1,
   "id": "41786102",
   "metadata": {},
   "outputs": [],
   "source": [
    "import pandas as pd\n",
    "import numpy as np"
   ]
  },
  {
   "cell_type": "code",
   "execution_count": 2,
   "id": "59f3c4c8",
   "metadata": {},
   "outputs": [
    {
     "name": "stdout",
     "output_type": "stream",
     "text": [
      "['False', 'None', 'True', '__peg_parser__', 'and', 'as', 'assert', 'async', 'await', 'break', 'class', 'continue', 'def', 'del', 'elif', 'else', 'except', 'finally', 'for', 'from', 'global', 'if', 'import', 'in', 'is', 'lambda', 'nonlocal', 'not', 'or', 'pass', 'raise', 'return', 'try', 'while', 'with', 'yield']\n"
     ]
    }
   ],
   "source": [
    "# printing necessary keywords\n",
    "import keyword\n",
    "print(keyword.kwlist)\n",
    "\n",
    "# Cannot be used as variables or identifiers etc."
   ]
  },
  {
   "cell_type": "code",
   "execution_count": 4,
   "id": "9a8d5692",
   "metadata": {},
   "outputs": [
    {
     "name": "stdout",
     "output_type": "stream",
     "text": [
      "Enter anything and check data Type: 56\n",
      "Type of data entered is : <class 'int'>\n"
     ]
    }
   ],
   "source": [
    "# Getting inputs in python\n",
    "# The input always store the information in form of string\n",
    "name = input(\"Enter anything and check data Type: \")\n",
    "print(f'Type of data entered is : {type(eval(name))}')"
   ]
  },
  {
   "cell_type": "code",
   "execution_count": 5,
   "id": "1e325171",
   "metadata": {},
   "outputs": [
    {
     "name": "stdout",
     "output_type": "stream",
     "text": [
      "Enter 3 names (Use comma between names): jj,ts,rj\n"
     ]
    }
   ],
   "source": [
    "# taking new name and splitting to form 3 new inputs\n",
    "\n",
    "name1 , name2 , name3 = input(\"Enter 3 names (Use comma between names): \").split(',')"
   ]
  },
  {
   "cell_type": "code",
   "execution_count": 6,
   "id": "b0e1b387",
   "metadata": {},
   "outputs": [
    {
     "data": {
      "text/plain": [
       "'jj'"
      ]
     },
     "execution_count": 6,
     "metadata": {},
     "output_type": "execute_result"
    }
   ],
   "source": [
    "name1"
   ]
  },
  {
   "cell_type": "markdown",
   "id": "40edd4d0",
   "metadata": {},
   "source": [
    "## Type of Constructors \n",
    "\n",
    "- Int()\n",
    "- float()\n",
    "- str()"
   ]
  },
  {
   "cell_type": "code",
   "execution_count": 10,
   "id": "50609908",
   "metadata": {},
   "outputs": [
    {
     "name": "stdout",
     "output_type": "stream",
     "text": [
      "Enter 3 numbers with comma separation : 21,12,12\n"
     ]
    }
   ],
   "source": [
    "# convert every Number input into float\n",
    "\n",
    "num1,num2,num3 = input(\"Enter 3 numbers with comma separation : \").split(',')"
   ]
  },
  {
   "cell_type": "code",
   "execution_count": 13,
   "id": "4224bdc0",
   "metadata": {},
   "outputs": [
    {
     "name": "stdout",
     "output_type": "stream",
     "text": [
      "Enter values in numbers: 15\n",
      "Enter values in numbers: 20\n",
      "Sum of 2 numbers are : 35.0\n"
     ]
    }
   ],
   "source": [
    "num1 = float(input('Enter values in numbers: '))\n",
    "num2 = float(input('Enter values in numbers: '))\n",
    "total = num1+num2\n",
    "print(f'Sum of 2 numbers are : {total}')"
   ]
  },
  {
   "cell_type": "markdown",
   "id": "f6fba417",
   "metadata": {},
   "source": [
    "## String functions\n",
    "- string.upper()\n",
    "- string.lower()\n",
    "- string.capitalize()\n",
    "- string.title()\n",
    "- string.count() - to know the repetition of letter"
   ]
  },
  {
   "cell_type": "code",
   "execution_count": 20,
   "id": "05548263",
   "metadata": {},
   "outputs": [
    {
     "name": "stdout",
     "output_type": "stream",
     "text": [
      "string.upper() gives : DEEP NEURAL NETWORK\n",
      "string.lower() gives : deep neural network\n",
      "string.capitalize() gives : Deep neural network\n",
      "string.title() gives : Deep Neural Network\n",
      "string.count(\"N\") gives : 2\n"
     ]
    }
   ],
   "source": [
    "string = 'deep neural network'\n",
    "print(f'string.upper() gives : {string.upper()}')\n",
    "print(f'string.lower() gives : {string.lower()}')\n",
    "print(f'string.capitalize() gives : {string.capitalize()}')\n",
    "print(f'string.title() gives : {string.title()}')\n",
    "print(f'string.count(\"N\") gives : {string.count(\"n\")}')"
   ]
  },
  {
   "cell_type": "markdown",
   "id": "2d666144",
   "metadata": {},
   "source": [
    "## Binary Operator\n",
    "\n",
    "- The numbers are stored in form of bits\n",
    "- This conversion process is taken care by compiler - batch wise upload - error identification is difficult but fast\n",
    "- Python uses interpreter  - line wise interpretation - so little slower- easier identification of error"
   ]
  },
  {
   "cell_type": "code",
   "execution_count": 4,
   "id": "44d22e91",
   "metadata": {},
   "outputs": [
    {
     "name": "stdout",
     "output_type": "stream",
     "text": [
      "61\n",
      "9\n"
     ]
    }
   ],
   "source": [
    "a = 25\n",
    "b = 45\n",
    "# bitwise operator &(and),|(or),^(XOR), ~ (NOT), \n",
    "print(a|b)\n",
    "print(b&a)"
   ]
  },
  {
   "cell_type": "markdown",
   "id": "a0fd5f8a",
   "metadata": {},
   "source": [
    "## Loop statements\n",
    "- if else loops"
   ]
  },
  {
   "cell_type": "code",
   "execution_count": 3,
   "id": "57001b44",
   "metadata": {},
   "outputs": [
    {
     "name": "stdout",
     "output_type": "stream",
     "text": [
      "Enter a number37\n",
      "Given number is odd\n"
     ]
    }
   ],
   "source": [
    "# Write a program to know whether a number is even or not\n",
    "\n",
    "a = int(input(\"Enter a number\"))\n",
    "\n",
    "if a%2 == 0:\n",
    "    print('Given Number is even')\n",
    "else:\n",
    "    print('Given number is odd')"
   ]
  },
  {
   "cell_type": "code",
   "execution_count": null,
   "id": "201a6dd6",
   "metadata": {},
   "outputs": [],
   "source": [
    "# Use nested if statement\n",
    "\"\"\"\n",
    "Take 3 input of marks\n",
    "print the average , total marks\n",
    "Output the grade \n",
    "if avg. > 90 = A grade\n",
    "if avg. 80 - 90 = B grade\n",
    "if avg. 70 - 90 = C grade\n",
    "if avg. < 70 = D grade\n",
    "\"\"\"\n",
    "\n",
    "m1 = int(input(\"Enter the mark1 \"))\n",
    "m2 = int(input(\"Enter the mark2 \"))\n",
    "m3 = int(input(\"Enter the mark3 \"))\n",
    "\n",
    "total = m1 + m2 + m3\n",
    "avg = (m1 + m2 + m3)/3\n",
    "print('Total :',total)\n",
    "print('/naverage :',avg)\n",
    "if m1 <= 35 and m2 <= 35 and m3 <=35:\n",
    "    print('Result : Fail')\n",
    "else:\n",
    "    print('Result : Pass')\n",
    "    \n",
    "    if avg > 90:\n",
    "        print('Grade : A')\n",
    "    if avg >=80 and avg <= 90:\n",
    "        print('Grade : B')\n",
    "    if avg >=70 and avg <= 80:\n",
    "        print('Grade : C')\n",
    "    if avg < 70:\n",
    "        print('Grade : D')"
   ]
  },
  {
   "cell_type": "code",
   "execution_count": 7,
   "id": "a1e9123b",
   "metadata": {},
   "outputs": [
    {
     "name": "stdout",
     "output_type": "stream",
     "text": [
      "1\n",
      "3\n",
      "5\n",
      "7\n",
      "9\n"
     ]
    }
   ],
   "source": [
    "# While statement \n",
    "# Returns all the output until the mentioned condition is true\n",
    "\n",
    "n = 1\n",
    "while n <= 10:\n",
    "    print(n)\n",
    "    n += 2"
   ]
  },
  {
   "cell_type": "code",
   "execution_count": null,
   "id": "199bc161",
   "metadata": {},
   "outputs": [],
   "source": []
  }
 ],
 "metadata": {
  "kernelspec": {
   "display_name": "Python 3 (ipykernel)",
   "language": "python",
   "name": "python3"
  },
  "language_info": {
   "codemirror_mode": {
    "name": "ipython",
    "version": 3
   },
   "file_extension": ".py",
   "mimetype": "text/x-python",
   "name": "python",
   "nbconvert_exporter": "python",
   "pygments_lexer": "ipython3",
   "version": "3.9.13"
  }
 },
 "nbformat": 4,
 "nbformat_minor": 5
}
